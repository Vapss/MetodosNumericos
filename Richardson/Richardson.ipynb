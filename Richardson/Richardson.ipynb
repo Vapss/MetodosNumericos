{
 "cells": [
  {
   "cell_type": "markdown",
   "metadata": {},
   "source": [
    "# Extrapolación de Richardson\n",
    "\n",
    "\n",
    "Este método de extrapolación es usado para aquellas aproximaciones de orden $O(h^2)$ y a partir de estas se procede a determinar aproximaciones con un error mucho menor, es decir, de orden superior.\n",
    "\n",
    "Lo anterior, sin incrementar el número de puntos a emplear a fin de no incrementar la complejidad de los cálculos del método.\n",
    "\n",
    "Entonces dicho lo anterior, las aproximaciones deben tener la forma:\n",
    "\n",
    "$$M = N_1(h) + h^2 K_1 + h^4 K_2 + h^6 K_3 + \\cdots,$$\n",
    "\n",
    "A partir de estas apromaximaciones sólo variaremos el tamaño de paso $h$ y con esto mejorar el tamaño del error, empleando una tabla de aproximaciones de la forma siguiente:\n",
    "\n",
    "$$\\begin{array}{|cccc|}\\hline\n",
    "\t\t\t\tO(h^2) & O(h^4) & O(h^6) & O(h^8) \\\\\\hline\n",
    "\t\t\t\tN_1(h) & \\; & \\; & \\;\\\\\n",
    "\t\t\t\tN_1\\left(\\frac{h}{2}\\right) & N_2\\left(h\\right) & \\; & \\; \\\\\n",
    "\t\t\t\tN_1\\left(\\frac{h}{4}\\right) & N_2\\left(\\frac{h}{2}\\right) & N_3\\left(h\\right) & \\; \\\\\n",
    "\t\t\t\tN_1\\left(\\frac{h}{8}\\right) & N_2\\left(\\frac{h}{4}\\right) & N_3\\left(\\frac{h}{2}\\right) & N_4\\left(h\\right)\\\\ \\hline\n",
    "\t\t\t\\end{array}$$\n",
    "\n",
    "Donde cada términos de orden $O(h^4)$, $O(h^6)$, y de ahí en adelante se encuentran mediante la fórmula siguiente:\n",
    "\n",
    "$$N_j(h) = N_{j-1}\\left(\\frac{h}{2}\\right) + \\frac{N_{j-1}\\left(\\frac{h}{2}\\right) - N_{j-1}\\left(h\\right)}{4^{j-1} - 1},$$\n"
   ]
  },
  {
   "cell_type": "code",
   "execution_count": null,
   "metadata": {},
   "outputs": [],
   "source": [
    "# Importamos todas aquellas funciones externas necesarias para definir la función objetivo\n",
    "from numpy import log"
   ]
  },
  {
   "cell_type": "code",
   "execution_count": null,
   "metadata": {},
   "outputs": [],
   "source": [
    "# Definimos el proceso de aproximación de diferencias centrasl de segundo orden\n",
    "def central2(fx, h, x0):\n",
    "    central2 = (fx(x0 + h) - fx(x0 - h)) / (2 * h)\n",
    "    return central2"
   ]
  },
  {
   "cell_type": "code",
   "execution_count": null,
   "metadata": {},
   "outputs": [],
   "source": [
    "# Definimos tambien los tamaños de pasos iniciales, el punto de aproximación:\n",
    "x0 = 4 # Punto de aproximación\n",
    "h = 1 # Tamaño de paso"
   ]
  },
  {
   "cell_type": "code",
   "execution_count": null,
   "metadata": {},
   "outputs": [],
   "source": [
    "# Definimos la función para la cual la emplearemos\n",
    "def fx(x):\n",
    "    fx = log(x)\n",
    "    return fx"
   ]
  },
  {
   "cell_type": "code",
   "execution_count": null,
   "metadata": {},
   "outputs": [],
   "source": [
    "# Definimos el orden de la aproximación que buscamos\n",
    "n = 3\n",
    "\n",
    "# Determinamos las diferencias iniciales de referencia\n",
    "richard = [[central2(fx, h / (2**i), x0) for i in range(n)]]\n",
    "\n",
    "# Calculamos las siguientes aproximaciones\n",
    "for j in range(1, n, 1):\n",
    "    # Generamos un arreglo para las aproximaciones de orden O(h^{2i})\n",
    "    richard.append([])\n",
    "    \n",
    "    # Agregamos las diferencias\n",
    "    for i in range(n - j):\n",
    "        # Aplicamos la fórmula de Richardson\n",
    "        aprox = richard[j - 1][i + 1] + (1 / (4**j - 1)) * (richard[j - 1][i + 1] - richard[j - 1][i])\n",
    "        richard[j].append(round(aprox,8))"
   ]
  }
 ],
 "metadata": {
  "kernelspec": {
   "display_name": "Python 3",
   "language": "python",
   "name": "python3"
  },
  "language_info": {
   "codemirror_mode": {
    "name": "ipython",
    "version": 3
   },
   "file_extension": ".py",
   "mimetype": "text/x-python",
   "name": "python",
   "nbconvert_exporter": "python",
   "pygments_lexer": "ipython3",
   "version": "3.8.5"
  }
 },
 "nbformat": 4,
 "nbformat_minor": 4
}
