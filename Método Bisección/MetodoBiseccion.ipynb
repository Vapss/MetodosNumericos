{
 "cells": [
  {
   "cell_type": "markdown",
   "metadata": {},
   "source": [
    "# Método de bisección\n",
    "\n",
    "En este cuaderno de trabajo implementaremos y analizaremos el método de bisección aplicada en ecuaciones algebráicas de una variable, lo anterior considerará que ya contamos con un primer intervalo de búsqueda.\n",
    "\n",
    "Recordando un poco sobre el método de bisección, para lo que consideraremos que contamos con una función $f$ y un intervalo de búsqueda $[a,b]$ este consiste en aplicar los siguientes pasos:\n",
    "\n",
    "- Validamos que el producto de los extremos del intervalo sea negativo $f(a) f(b) < 0$.\n",
    "\n",
    "\n",
    "- Calculamos punto medio del intervalo y designamos a $c$.\n",
    "\n",
    "\n",
    "- Validamos que el producto del punto medio y el extremo izquierdo sea negativo $f(a) f(c) < 0$.\n",
    "\n",
    "\n",
    "- Si es cierto definimos $b =  c$, en caso contrario definimos $a = c$ y regresamos al paso 5."
   ]
  },
  {
   "cell_type": "code",
   "execution_count": null,
   "metadata": {},
   "outputs": [],
   "source": [
    "# Importaremos las funciones a emplear necesarias para definir la ecuación algebraíca\n",
    "from numpy import exp\n",
    "\n",
    "# Definimos dos listas donde guardaremos los intervalos de busqueda, asi como una lista para las aproximaciones\n",
    "# obtenidas y un contador de las iteraciones\n",
    "A = [] # Lista para el extremo izquierdo\n",
    "B = [] # Lista para el extremo derecho\n",
    "C = [] # Lista para la longitud de los intervalos\n",
    "k = 0 # Contador de iteraciones"
   ]
  },
  {
   "cell_type": "code",
   "execution_count": null,
   "metadata": {},
   "outputs": [],
   "source": [
    "# Condiciones de conlusion del método\n",
    "TOL = 1.*(10**(-5)) # Obtener un error relativo de 10^(-10)\n",
    "MaxK = 100 # Realizar máximo 100 iteraciones"
   ]
  },
  {
   "cell_type": "code",
   "execution_count": null,
   "metadata": {},
   "outputs": [],
   "source": [
    "# Definimos la funcion objetivo\n",
    "def fx(x):\n",
    "    fx = 2 - exp(x)\n",
    "    return fx"
   ]
  },
  {
   "cell_type": "code",
   "execution_count": null,
   "metadata": {},
   "outputs": [],
   "source": [
    "# Definimos el intervalo de busqueda inicial y validamos que funcione para el método\n",
    "a = 0 # Extremo izquierdo\n",
    "b = 2 # Extremo derecho\n",
    "if fx(a)*fx(b) < 0:\n",
    "    print('Los puntos funcionan para el método de bisección')\n",
    "else:\n",
    "    print('Los puntos no funcionan para el método de bisección, elige otros dos')"
   ]
  },
  {
   "cell_type": "code",
   "execution_count": null,
   "metadata": {},
   "outputs": [],
   "source": [
    "# Definimos el método iterativo\n",
    "def itebiseccion(a,b,fx):\n",
    "    # Calculamos el punto medio\n",
    "    pmedio = a + 0.5*(b-a)\n",
    "    # Validamos que intervalo podemos emplear\n",
    "    if fx(a)*fx(pmedio)<0:\n",
    "        return 1,a,pmedio\n",
    "    elif fx(pmedio)*fx(b)<0:\n",
    "        return 1,pmedio,b\n",
    "    else:\n",
    "        return 0, pmedio"
   ]
  },
  {
   "cell_type": "code",
   "execution_count": null,
   "metadata": {},
   "outputs": [],
   "source": [
    "# Inicializamos los arreglos de búsqueda\n",
    "A.append(a)\n",
    "B.append(b)\n",
    "C.append(b-a)"
   ]
  },
  {
   "cell_type": "code",
   "execution_count": null,
   "metadata": {},
   "outputs": [],
   "source": [
    "# Validamos que el intervalo dado nos sirve para realizar la busqueda, es decir, f(a)f(b)<0\n",
    "if fx(a)*fx(b)>0 :\n",
    "    print('No existen raices de la funcion objetivo en el intervalo dado \\n')\n",
    "elif fx(a)*fx(b)==0:\n",
    "    if fx(a)==0:\n",
    "        print('La raíz de la ecuación se encuentra en el punto: ', a)\n",
    "    else:\n",
    "        print('La raíz de la ecuación se encuentra en el punto: ', b)\n",
    "else:\n",
    "    # Comenzamos a iterar\n",
    "    print('Iniciamos el proceso iterativo')\n",
    "    while (C[k]>TOL and k<MaxK):\n",
    "        # Iteramos hasta satisfacer las condiciones o encontrar una raiz\n",
    "        itera = itebiseccion(A[k],B[k],fx)\n",
    "        if itera[0] == 0:\n",
    "            print('La raíz de la ecuación se encuentra en el punto: ', itera[1])\n",
    "        else:\n",
    "            k = k + 1\n",
    "            A.append(itera[1])\n",
    "            B.append(itera[2])\n",
    "            C.append(itera[2]-itera[1])\n",
    "            # Imprimimos resultados obtenidos iteracion a iteracion\n",
    "            print('Resultados de la iteracion ', k)\n",
    "            print('La raiz se encuentra en el intervalo [', itera[1], ' , ', itera[2], ' ]')\n",
    "            print('El tamaño del intervalo donde se encuentra la raiz es ', itera[2]-itera[1], '\\n')"
   ]
  },
  {
   "cell_type": "code",
   "execution_count": null,
   "metadata": {},
   "outputs": [],
   "source": []
  }
 ],
 "metadata": {
  "kernelspec": {
   "display_name": "Python 3",
   "language": "python",
   "name": "python3"
  },
  "language_info": {
   "codemirror_mode": {
    "name": "ipython",
    "version": 3
   },
   "file_extension": ".py",
   "mimetype": "text/x-python",
   "name": "python",
   "nbconvert_exporter": "python",
   "pygments_lexer": "ipython3",
   "version": "3.8.5"
  }
 },
 "nbformat": 4,
 "nbformat_minor": 4
}
