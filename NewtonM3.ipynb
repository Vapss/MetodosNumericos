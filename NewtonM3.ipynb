{
 "cells": [
  {
   "cell_type": "code",
   "execution_count": 1,
   "id": "e7c3e00a",
   "metadata": {},
   "outputs": [],
   "source": [
    "# Importamos las funciones necesarias que empleara la función objetivo\n",
    "from numpy import cos, sin, exp, e\n",
    "\n",
    "# Procedemos a definir e inicializar las condiciones de paro del método\n",
    "tol = 1.*(10**(-15)) # Obtener un error relativo de 10^(-20)\n",
    "maxItera = 100 # Realizar máximo 100 iteraciones"
   ]
  },
  {
   "cell_type": "code",
   "execution_count": 2,
   "id": "f95dbc0f",
   "metadata": {},
   "outputs": [],
   "source": [
    "# Definimos la funcion objetivo\n",
    "def fx(x):\n",
    "    fx = e**(3*x)-9*x**2*e**(2*x)+27*x**4*e**x-27*x**6\n",
    "    return fx\n",
    "\n",
    "# Definimos la primera derivada de la funcion objetivo\n",
    "def fxp(x):\n",
    "    fxp = 3*e**(3*x)+(-18*x**2-18*x)*e**(2*x)+(27*x**4+108*x**3)*e**x-162*x**5\n",
    "    return fxp\n",
    "\n",
    "# Definimos la segunda derivada de la funcion objetivo\n",
    "def fxpp(x):\n",
    "    fxpp = 9*e**(3*x)+(-36*x**2-72*x-18)*e**(2*x)+(27*x**4+216*x**3+324*x**2)*e**x-810*x**4\n",
    "    return fxpp"
   ]
  },
  {
   "cell_type": "code",
   "execution_count": 3,
   "id": "d5d9b286",
   "metadata": {},
   "outputs": [],
   "source": [
    "# Definimos el punto inicial donde comenzaremos por aplicar el método así como el indice de conteo de las\n",
    "# iteraciones y un error grande a fin de inicializar el método\n",
    "p0 = 3.2 # aproximación inicial\n",
    "k = 0 # Inicilizamos las iteraciones\n",
    "error = 10000 # Inicializamos el valor del error en un número muy grande\n",
    "pAnterior = p0 # Inicializamos la primer aproximación como b"
   ]
  },
  {
   "cell_type": "code",
   "execution_count": 4,
   "id": "da3a7dd6",
   "metadata": {},
   "outputs": [],
   "source": [
    "# Definimos una funcion que defina el método iterativo del punto fijo\n",
    "def itenewtonmultiple(a, fx, fxp, fxpp):\n",
    "    # Evaluamos para validar si ya tenemos la raíz\n",
    "    evalua = fx(a)\n",
    "    # Validamos si llegamos a las raíz\n",
    "    if evalua==0:\n",
    "        return 0, a\n",
    "    else:\n",
    "        return 1, a -((fx(a)*fxp(a))/(fxp(a)**2-fx(a)*fxpp(a)))"
   ]
  },
  {
   "cell_type": "code",
   "execution_count": 5,
   "id": "a0d36896",
   "metadata": {},
   "outputs": [
    {
     "name": "stdout",
     "output_type": "stream",
     "text": [
      "Iniciamos el proceso iterativo\n",
      "Resultados de la iteracion 1.\n",
      "La aproximación de la raíz se encuentra dada por 3.4305635.\n",
      "El valor de la función bajo la aproximación es -85.897532.\n",
      "El error relativo se encuentra dado por 237.1165.\n",
      "\n",
      "Resultados de la iteracion 2.\n",
      "La aproximación de la raíz se encuentra dada por 3.6410356.\n",
      "El valor de la función bajo la aproximación es -4.4118813.\n",
      "El error relativo se encuentra dado por 86.108004.\n",
      "\n",
      "Resultados de la iteracion 3.\n",
      "La aproximación de la raíz se encuentra dada por 3.7250531.\n",
      "El valor de la función bajo la aproximación es -0.0036970695.\n",
      "El error relativo se encuentra dado por 4.4958988.\n",
      "\n",
      "Resultados de la iteracion 4.\n",
      "La aproximación de la raíz se encuentra dada por 3.7330195.\n",
      "El valor de la función bajo la aproximación es -1.6007107e-09.\n",
      "El error relativo se encuentra dado por 0.011663457.\n",
      "\n",
      "Resultados de la iteracion 5.\n",
      "La aproximación de la raíz se encuentra dada por 3.733086.\n",
      "El valor de la función bajo la aproximación es -5.8207661e-11.\n",
      "El error relativo se encuentra dado por 6.658019e-05.\n",
      "\n",
      "Resultados de la iteracion 6.\n",
      "La aproximación de la raíz se encuentra dada por 3.7330893.\n",
      "El valor de la función bajo la aproximación es 0.0.\n",
      "El error relativo se encuentra dado por 3.2947951e-06.\n",
      "\n",
      "La raíz de la ecuación se encuentra en el punto: 3.7330893441511357.\n"
     ]
    }
   ],
   "source": [
    "# Empezamos el método de newton con los datos dados\n",
    "\n",
    "# En este caso ya tenemos la raíz deseada\n",
    "if fx(p0) == 0:\n",
    "    # Se describe que existe una raíz en el punto dado previamente\n",
    "    print('Se ha encontrado la raíz de la ecuación, la cual está dado por el punto {0}.'.format(p0))\n",
    "    \n",
    "# Dado que no tenemos la raíz aún procedemos a realizar iteraciones\n",
    "else:\n",
    "    # Señalamos que iniciamos el proceso iterativo\n",
    "    print('Iniciamos el proceso iterativo')\n",
    "    \n",
    "    # Iniciamos el proceso iterativo\n",
    "    while (error > tol and k < maxItera):\n",
    "        \n",
    "        # Iteramos el proceso\n",
    "        itera = itenewtonmultiple(p0, fx, fxp, fxpp)\n",
    "        \n",
    "        # Validamos los casos obtenidos de la bandera, si esta es 0, se ha determinado la raíz\n",
    "        if itera[0] == 0:\n",
    "            # Describimos que hemos determinado el punto fijo y lo imprimimos\n",
    "            print('La raíz de la ecuación se encuentra en el punto: {0}.'.format(itera[1]))\n",
    "            k = maxItera\n",
    "            \n",
    "        # Validamos los casos obtenidos de la bandera, si esta es 1, no se ha determinado el punto fijo\n",
    "        else:\n",
    "            # Incrementamos en 1 las iteraciones realizadas\n",
    "            k = k + 1\n",
    "            \n",
    "            # Imprimimos los resultados obtenidos de la iteracion\n",
    "            print('Resultados de la iteracion {0}.'.format(k))\n",
    "            print('La aproximación de la raíz se encuentra dada por {:.8}.'.format(itera[1]))\n",
    "            print('El valor de la función bajo la aproximación es {:.8}.'.format(fx(itera[1])))\n",
    "            \n",
    "            # Actualizamos las variables\n",
    "            error = abs(p0 - itera[1]) + abs(fx(p0)) # Error de aproximaciones\n",
    "            p0 = itera[1]\n",
    "            \n",
    "            # Imprimimos el error\n",
    "            print('El error relativo se encuentra dado por {:.8}.\\n'.format(error))"
   ]
  },
  {
   "cell_type": "code",
   "execution_count": null,
   "id": "98968de0",
   "metadata": {},
   "outputs": [],
   "source": []
  }
 ],
 "metadata": {
  "kernelspec": {
   "display_name": "Python 3",
   "language": "python",
   "name": "python3"
  },
  "language_info": {
   "codemirror_mode": {
    "name": "ipython",
    "version": 3
   },
   "file_extension": ".py",
   "mimetype": "text/x-python",
   "name": "python",
   "nbconvert_exporter": "python",
   "pygments_lexer": "ipython3",
   "version": "3.8.8"
  }
 },
 "nbformat": 4,
 "nbformat_minor": 5
}
