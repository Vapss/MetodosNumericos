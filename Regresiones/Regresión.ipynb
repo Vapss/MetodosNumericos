{
 "cells": [
  {
   "cell_type": "markdown",
   "metadata": {},
   "source": [
    "# Regresión lineal\n",
    "\n",
    "\n"
   ]
  },
  {
   "cell_type": "markdown",
   "metadata": {},
   "source": [
    "Ajustaremos con una línea recta a un conjunto de observaciones (de datos discretos) definidos por los puntos:\n",
    "\n",
    "\n",
    "$$(x_1, y_1), (x_2, y_2), (x_3, y_3), \\dots, (x_n, y_n);$$\n",
    "\n",
    "\n",
    "por lo que, la ecuación de la recta que debe de aproximar el conjunto de datos es:\n",
    "\n",
    "\n",
    "\\begin{equation}\n",
    "\ty = a_0 + a_1 x + e,\n",
    "\\end{equation}\n",
    "\n",
    "\n",
    "donde $a_0$ y $a_1$ son los coeficiente que representan la intersección con el eje $y$ y la pendiente de la recta, asimismo, $e$ es el error, es decir, la diferencia entre el modelo y las observaciones, entonces:\n",
    "\n",
    "\n",
    "\\begin{equation*}\n",
    "\te = y - a_0 - a_1x.\n",
    "\\end{equation*}\n",
    "\n",
    "\n",
    "Entonces la estrategia es minimizar la suma de todos los errores de aproximación con la recta lineal y el valor de la medicion, entonces tenemos la siguiente función por minimizar:\n",
    "\n",
    "\n",
    "\\begin{equation}\n",
    "\tE = \\sum_{i = 1}^n e_i^2 = \\sum_{i =1}^n \\left( y_i - \\overline{y}_i \\right)^2 = \\sum_{i =1}^n \\left( y_i - a_0 - a_1 x_i \\right)^2,\n",
    "\\end{equation}\n",
    "\n",
    "\n",
    "Así que los coeficientes del modelo son\n",
    "\n",
    "\n",
    "\\begin{equation}\n",
    "\t\\begin{split}\n",
    "\t\ta_1 & = \\frac{n\\sum_{i =1}^n y_i x_i  - \\left(\\sum_{i = 1}^n x_i\\right)\\left(\\sum_{i = 1}^n y_i\\right)}{n\\sum_{i =1}^n x^2_i - \\left(\\sum_{i =1}^n x_i \\right)^2} \\\\\n",
    "\t\ta_0 & = \\overline{y} - a_1 \\overline{x}\n",
    "\t\\end{split}\n",
    "\\end{equation}\n",
    "\n",
    "\n",
    "Por ultimo describimos el coeficiente de bondad $r^2$\n",
    "\n",
    "\n",
    "\\begin{equation}\n",
    "\tr^2 = \\left(\\frac{n\\sum_{i =1}^n x_i y_i - \\left(\\sum_{i =1}^n x_i\\right)\\left(\\sum_{i =1}^n y_i\\right)}{\\sqrt{n\\sum_{i =1}x_i^2 - \\left(\\sum_{i =1}^n x_i\\right)^2}\\sqrt{n\\sum_{i =1}y_i^2 - \\left(\\sum_{i =1}^n y_i\\right)^2}}\\right)^2.\n",
    "\\end{equation}"
   ]
  },
  {
   "cell_type": "code",
   "execution_count": null,
   "metadata": {},
   "outputs": [],
   "source": [
    "# A fin de facilitar la carga de los datos emplearemos la libreria de pandas\n",
    "import pandas as pd\n",
    "\n",
    "# Importamos numpy en caso de ocuparlo\n",
    "import numpy as np\n",
    "\n",
    "# Libreria para graficar\n",
    "import matplotlib.pyplot as plt\n",
    "from matplotlib import style\n",
    "import seaborn as sns\n",
    "\n",
    "# Configuramos los warnings\n",
    "import warnings\n",
    "warnings.filterwarnings('ignore')"
   ]
  },
  {
   "cell_type": "code",
   "execution_count": null,
   "metadata": {},
   "outputs": [],
   "source": [
    "# Importamos la información mediante un archivo en csv\n",
    "data = pd.read_csv('Ejemplo1.csv')\n",
    "\n",
    "# Visualizamos la información\n",
    "data"
   ]
  },
  {
   "cell_type": "code",
   "execution_count": null,
   "metadata": {},
   "outputs": [],
   "source": [
    "# Ahora procederemos a determinar el modelo, por lo que,\n",
    "# determinamos la longitud de los datos\n",
    "n = len(data)"
   ]
  },
  {
   "cell_type": "code",
   "execution_count": null,
   "metadata": {},
   "outputs": [],
   "source": [
    "# Calculamos la suma de datos en x\n",
    "data.sum()"
   ]
  },
  {
   "cell_type": "code",
   "execution_count": null,
   "metadata": {},
   "outputs": [],
   "source": [
    "# Asignamos la suma de 'x' y de 'y'\n",
    "sumx = data.sum()['x']\n",
    "sumy = data.sum()['y']"
   ]
  },
  {
   "cell_type": "code",
   "execution_count": null,
   "metadata": {},
   "outputs": [],
   "source": [
    "# Calculamos el cuadrado del dataframe\n",
    "datacuadrado = data ** 2"
   ]
  },
  {
   "cell_type": "code",
   "execution_count": null,
   "metadata": {},
   "outputs": [],
   "source": [
    "# Imprimimos el cuadrado\n",
    "datacuadrado"
   ]
  },
  {
   "cell_type": "code",
   "execution_count": null,
   "metadata": {},
   "outputs": [],
   "source": [
    "# Asignamos la suma\n",
    "sumxx = datacuadrado.sum()['x']\n",
    "sumyy = datacuadrado.sum()['y']"
   ]
  },
  {
   "cell_type": "code",
   "execution_count": null,
   "metadata": {},
   "outputs": [],
   "source": [
    "# Calculamos el producto cruzado\n",
    "data['x'] * data['y']"
   ]
  },
  {
   "cell_type": "code",
   "execution_count": null,
   "metadata": {},
   "outputs": [],
   "source": [
    "# Calculamos y asignamos el cuadrado\n",
    "sumxy = (data['x'] * data['y']).sum()"
   ]
  },
  {
   "cell_type": "code",
   "execution_count": null,
   "metadata": {},
   "outputs": [],
   "source": [
    "# Con todos los valores, determinamos los coeficientes\n",
    "a1 = (n * sumxy - sumx * sumy) / (n * sumxx - sumx ** 2)\n",
    "a0 = (sumy / n) - a1 * (sumx / n)\n",
    "\n",
    "# Imprimimos los coeficientes\n",
    "print('El coeficiente de la pendiente es {} y el de la intersección es {}'.format(a1, a0))"
   ]
  },
  {
   "cell_type": "code",
   "execution_count": null,
   "metadata": {},
   "outputs": [],
   "source": [
    "# Ahora calculamos las estimaciones con el modelo\n",
    "estimados = a0 + a1 * data['x']\n",
    "\n",
    "# Imprimimos los estimados\n",
    "print(estimados)"
   ]
  },
  {
   "cell_type": "code",
   "execution_count": null,
   "metadata": {},
   "outputs": [],
   "source": [
    "# Ahora calculamos los errores\n",
    "E = ((estimados - data['y']) ** 2).sum()"
   ]
  },
  {
   "cell_type": "code",
   "execution_count": null,
   "metadata": {},
   "outputs": [],
   "source": [
    "# Estandarizamos el error\n",
    "S = np.sqrt(E / (n - 2))\n",
    "\n",
    "# Imprimimos el valor del error estandarizado\n",
    "print(S)"
   ]
  },
  {
   "cell_type": "code",
   "execution_count": null,
   "metadata": {},
   "outputs": [],
   "source": [
    "# Calculamos el coeficiente de la bondad\n",
    "bondad = ((n * sumxy - sumx * sumy) / (np.sqrt(n * sumxx - sumx ** 2) * np.sqrt(n * sumyy - sumy ** 2))) ** 2\n",
    "\n",
    "# Imprimimos el coeficiente de bondad\n",
    "print('El coeficiente de bondad es: ', bondad)"
   ]
  },
  {
   "cell_type": "code",
   "execution_count": null,
   "metadata": {},
   "outputs": [],
   "source": [
    "# Ahora sistematizaremos el procedo anterior\n",
    "def regresionlineal(data):\n",
    "    \n",
    "    # Calculamos el numero de datos\n",
    "    n = len(data)\n",
    "    \n",
    "    # Calculamos los coeficientes de las sumas necesarios\n",
    "    sumx = data.sum()['x']\n",
    "    sumy = data.sum()['y']\n",
    "    \n",
    "    # Asignamos la suma de los cuadrados\n",
    "    sumxx = datacuadrado.sum()['x']\n",
    "    sumyy = datacuadrado.sum()['y']\n",
    "    \n",
    "    # Asignamos la suma cruzada\n",
    "    sumxy = (data['x'] * data['y']).sum()\n",
    "    \n",
    "    # Calculamos los coeficientes\n",
    "    a1 = (n * sumxy - sumx * sumy) / (n * sumxx - sumx ** 2)\n",
    "    a0 = (sumy / n) - a1 * (sumx / n)\n",
    "    \n",
    "    # Imprimimos los coeficientes\n",
    "    print('El coeficiente de la pendiente es {} y el de la intersección es {}'.format(a1, a0))\n",
    "    \n",
    "    # Ahora calculamos las estimaciones con el modelo\n",
    "    estimados = a0 + a1 * data['x']\n",
    "    \n",
    "    # Ahora calculamos los errores\n",
    "    E = ((estimados - data['y']) ** 2).sum()\n",
    "    \n",
    "    # Estandarizamos el error\n",
    "    S = np.sqrt(E / (n - 2))\n",
    "    \n",
    "    # Imprimimos el valor del error estandarizado\n",
    "    print('El error estandarizado del modelo de regresion lineal es: ',S)\n",
    "    \n",
    "    # Calculamos el coeficiente de la bondad\n",
    "    bondad = ((n * sumxy - sumx * sumy) / (np.sqrt(n * sumxx - sumx ** 2) * np.sqrt(n * sumyy - sumy ** 2))) ** 2\n",
    "\n",
    "    # Imprimimos el coeficiente de bondad\n",
    "    print('El coeficiente de bondad es: ', bondad)\n",
    "    \n",
    "    return a0, a1, S, bondad"
   ]
  },
  {
   "cell_type": "code",
   "execution_count": null,
   "metadata": {},
   "outputs": [],
   "source": [
    "# Llamamos los datos\n",
    "a0, a1, S, bondad = regresionlineal(data)"
   ]
  },
  {
   "cell_type": "code",
   "execution_count": null,
   "metadata": {},
   "outputs": [],
   "source": [
    "# Ahora analizaremos como se efectua de forma directa con el código de python\n",
    "\n",
    "# Importamos la libreria de modelos estadisticos\n",
    "import statsmodels.api as sm"
   ]
  },
  {
   "cell_type": "code",
   "execution_count": null,
   "metadata": {},
   "outputs": [],
   "source": [
    "# Asignamos las variables\n",
    "x = data[['x']]\n",
    "y = data['y']\n",
    "\n",
    "# Variable para predecir\n",
    "x1 = data[['x']]\n",
    "\n",
    "# Agregamos una constante al conjunto x\n",
    "x = sm.add_constant(x, prepend = True)\n",
    "\n",
    "# Ajustamos el modelo\n",
    "modelo = sm.OLS(y,x)\n",
    "\n",
    "# Ajustamos el modelo\n",
    "modelo = modelo.fit()\n",
    "\n",
    "# Imprimimos el resumen del modelo\n",
    "print(modelo.summary())"
   ]
  },
  {
   "cell_type": "code",
   "execution_count": null,
   "metadata": {},
   "outputs": [],
   "source": [
    "# Imprimimos los coeficientes del modelo\n",
    "print(\"Coeficiente de intersección: \", modelo.params[0]) # Pendiente \n",
    "print(\"Coeficiente de la pendiente: \", modelo.params[1]) # coeficiente de la intersección "
   ]
  },
  {
   "cell_type": "code",
   "execution_count": null,
   "metadata": {},
   "outputs": [],
   "source": [
    " # Predicciones con intervalo de confianza del 85%\n",
    "# ============================================================================== \n",
    "predicciones = modelo.get_prediction(x).summary_frame(alpha=0.15)\n",
    "predicciones['x'] = x1\n",
    "predicciones['y'] = y\n",
    "predicciones = predicciones.sort_values('x')\n",
    "# Gráfico del modelo\n",
    "# ============================================================================== \n",
    "fig, ax = plt.subplots(figsize = (12, 6.84))\n",
    "ax.scatter(predicciones['x'], predicciones['y'], marker='o', color = \"gray\")\n",
    "ax.plot(predicciones['x'], predicciones[\"mean\"], linestyle='-', label=\"OLS\")\n",
    "# ax.plot(predicciones['x'], predicciones[\"mean_ci_lower\"], linestyle='--', color='red', label=\"85% CI\")\n",
    "# ax.plot(predicciones['x'], predicciones[\"mean_ci_upper\"], linestyle='--', color='red')\n",
    "#ax.fill_between(predicciones['x'], predicciones[\"mean_ci_lower\"], predicciones[\"mean_ci_upper\"], alpha=0.1)\n",
    "ax.legend();"
   ]
  },
  {
   "cell_type": "code",
   "execution_count": null,
   "metadata": {},
   "outputs": [],
   "source": []
  }
 ],
 "metadata": {
  "kernelspec": {
   "display_name": "Python 3",
   "language": "python",
   "name": "python3"
  },
  "language_info": {
   "codemirror_mode": {
    "name": "ipython",
    "version": 3
   },
   "file_extension": ".py",
   "mimetype": "text/x-python",
   "name": "python",
   "nbconvert_exporter": "python",
   "pygments_lexer": "ipython3",
   "version": "3.8.5"
  }
 },
 "nbformat": 4,
 "nbformat_minor": 4
}
