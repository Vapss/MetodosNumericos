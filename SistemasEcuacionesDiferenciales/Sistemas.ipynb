{
 "cells": [
  {
   "cell_type": "markdown",
   "metadata": {},
   "source": [
    "# Sistemas de ecuaciones diferenciales\n",
    "\n",
    "Considere un \\textbf{sistema de ecuaciones diferenciales de orden $m$} de problemas de valores iniciales de primer orden, el cual se encuentra dado por:\n",
    "\n",
    "\n",
    "\\begin{equation}\n",
    "\t\\begin{split}\n",
    "\t\t\\frac{dy_1}{dt} & = f_1(t, y_1, y_2, y_3, \\dots, y_m) \\\\\n",
    "\t\t\\frac{dy_2}{dt} & = f_2(t, y_1, y_2, y_3, \\dots, y_m) \\\\\n",
    "\t\t\\frac{dy_3}{dt} & = f_3(t, y_1, y_2, y_3, \\dots, y_m) \\\\\n",
    "\t\t\\;\\;\\;\\;\\vdots\\;\\;\\; & \\;\\;\\;\\;\\;\\;\\;\\;\\vdots\\;\\;\\;\\;\\;\\;\\;\\;\\;\\;\\;\\;\\;\\;\\;\\;\\vdots\\;\\;\\;\\; \\\\\n",
    "\t\t\\frac{dy_m}{dt} & = f_m(t, y_1, y_2, y_3, \\dots, y_m) \\\\\n",
    "\t\\end{split}\n",
    "\\end{equation}\n",
    "\n",
    "\n",
    "en el intervalo $a \\leq t \\leq b$ con las condiciones iniciales $y_1(a) = \\alpha_1, y_2(a) = \\alpha_2, y_3(a) = \\alpha_3$, $\\dots$, $y_m(a) = \\alpha_m$. \n",
    "\n",
    "\n",
    "Entonces si buscamos aproximar la solución del mismo tenemos que podemos emplear el método de Runge - Kutta de orden 4 para determinar los coeficientes y emplear los siguientes pasos:\n",
    "\n",
    "\n",
    "\\begin{equation}\n",
    "\t\\begin{split}\n",
    "\t\t\\forall i = 1, 2, \\dots, m \\;\\;\\; w_{i,0} & = \\alpha_i \\\\\n",
    "\t\t\\forall j = 1, 2, \\dots, N \\;\\;\\; \\text{Realizar} & \\\\\n",
    "\t\t\\forall i = 1, 2, 3, \\dots, m \\;\\;\\; k_{1,i} & = h f_i\\left(t_j, w_{1,j}, w_{2,j}, w_{3,j}, \\dots, w_{m,j}\\right) \\\\\n",
    "\t\t\\forall i = 1, 2, \\dots, m \\;\\;\\; k_{2,i} & = h f_i\\left(t_j + \\frac{h}{2}, w_{1,j} + \\frac{k_{1,1}}{2}, w_{2,j} + \\frac{k_{1,2}}{2}, \\dots, w_{m,j} + \\frac{k_{1,m}}{2}\\right) \\\\\n",
    "\t\t\\forall i = 1, 2, \\dots, m \\;\\;\\; k_{3,i} & = h f_i\\left(t_j + \\frac{h}{2}, w_{1,j} + \\frac{k_{2,1}}{2}, w_{2,j} + \\frac{k_{2,2}}{2}, \\dots, w_{m,j} + \\frac{k_{2,m}}{2}\\right) \\\\\n",
    "\t\t\\forall i = 1, 2, \\dots, m \\;\\;\\; k_{4,i} & = h f_i\\left(t_j + h, w_{1,j} + k_{3,1}, w_{2,j} + k_{3,2}, \\dots, w_{m,j} + k_{3,m}\\right) \\\\\n",
    "\t\t\\forall i = 1, 2, \\dots, m \\;\\;\\; w_{i,j+1} & = w_{i,j} + \\frac{1}{6}(k_{1,i} + 2 k_{2,1} + 2 k_{3,i} + k_{4,i}).\n",
    "\t\\end{split}\n",
    "\\end{equation}"
   ]
  },
  {
   "cell_type": "code",
   "execution_count": null,
   "metadata": {},
   "outputs": [],
   "source": [
    "# Importamos las librerias y funciones necesarias para replicar el método\n",
    "import numpy as np\n",
    "from numpy import exp"
   ]
  },
  {
   "cell_type": "code",
   "execution_count": null,
   "metadata": {},
   "outputs": [],
   "source": [
    "# Determinamos los parámetros donde trabajaremos\n",
    "a = 0 # Punto inicial\n",
    "b = 1 # Punto final\n",
    "n = 10 # Número de pasos\n",
    "m = 2 # Número de ecuaciones en el sistema\n",
    "\n",
    "# Condiciones iniciales\n",
    "w10 = 0 # Condicion inicial en y_1\n",
    "w20 = 0 # Condicion inicial en y_2"
   ]
  },
  {
   "cell_type": "code",
   "execution_count": null,
   "metadata": {},
   "outputs": [],
   "source": [
    "# Definimos cadenas auxiliares para impresión de pantalla\n",
    "punto = 'Punto'\n",
    "aproxima1 = 'Aprox y1'\n",
    "aproxima2 = 'Aprox y2'\n",
    "real1 = 'Real y1'\n",
    "real2 = 'Real y2'\n",
    "error1 = 'Error y1'\n",
    "error2 = 'Error y2'"
   ]
  },
  {
   "cell_type": "code",
   "execution_count": null,
   "metadata": {},
   "outputs": [],
   "source": [
    "# Definimos la función f1(t,y1, y2)\n",
    "def f1(t, y1, y2):\n",
    "    f1 = -4 * y1 + 3 * y2 + 6\n",
    "    return f1\n",
    "\n",
    "# Definimos la función f2(t,y1, y2)\n",
    "def f2(t, y1, y2):\n",
    "    f1 = -2.4 * y1 + 1.6 * y2 + 3.6\n",
    "    return f1\n",
    "\n",
    "# Concatenamos las funciones en una lista\n",
    "func = [f1, f2]"
   ]
  },
  {
   "cell_type": "code",
   "execution_count": null,
   "metadata": {},
   "outputs": [],
   "source": [
    "# Definimos las soluciones reales del sistema\n",
    "\n",
    "# Definimos la función y1(t)\n",
    "def y1(t):\n",
    "    y1 = -3.375 * exp(-2 * t) + 1.875 * exp(-0.4 * t) + 1.5\n",
    "    return y1\n",
    "\n",
    "# Definimos la función y2(t)\n",
    "def y2(t):\n",
    "    y2 = -2.25 * exp(-2 * t) + 2.25 * exp(-0.4 * t)\n",
    "    return y2"
   ]
  },
  {
   "cell_type": "code",
   "execution_count": null,
   "metadata": {},
   "outputs": [],
   "source": [
    "# Determinamos el tamaño de salto\n",
    "h = (b - a) / n"
   ]
  },
  {
   "cell_type": "code",
   "execution_count": null,
   "metadata": {},
   "outputs": [],
   "source": [
    "# Generamos el arreglo de puntos y de aproximaciones donde trabajaremos\n",
    "aprox = np.empty((m+1, n+1))\n",
    "\n",
    "# La primer dimensión tendra los puntos donde trabajaremos, es decir, los puntos de la malla\n",
    "aprox[0,:] = np.arange(a,b + h, h)\n",
    "\n",
    "# Imprimimos la primer dimensión a fin de validar los resultados:\n",
    "print(aprox[0])"
   ]
  },
  {
   "cell_type": "code",
   "execution_count": null,
   "metadata": {},
   "outputs": [],
   "source": [
    "# Incorporamos los valores asociados con las condiciones iniciales\n",
    "aprox[1,0] = w10\n",
    "aprox[2,0] = w20"
   ]
  },
  {
   "cell_type": "code",
   "execution_count": null,
   "metadata": {},
   "outputs": [],
   "source": [
    "# Definimos el método de Runge - Kutta de orden 4\n",
    "def rungeK4(t, h, w, func):\n",
    "    \n",
    "    # Definimos un arreglo donde se encontrarán los valores de los coeficientes\n",
    "    coef = np.empty((m, 5))\n",
    "    \n",
    "    # determinamos los coeficientes de k1\n",
    "    for i in range(m):\n",
    "        coef[i,0] = h * func[i](t, w[0], w[1])\n",
    "        \n",
    "    # determinamos los coeficientes de k2\n",
    "    for i in range(m):\n",
    "        coef[i,1] = h * func[i](t + (h / 2), w[0] + (coef[0,0] / 2), w[1] + (coef[1,0] / 2))\n",
    "        \n",
    "    # determinamos los coeficientes de k3\n",
    "    for i in range(m):\n",
    "        coef[i,2] = h * func[i](t + (h / 2), w[0] + (coef[0,1] / 2), w[1] + (coef[1,1] / 2))\n",
    "        \n",
    "    # determinamos los coeficientes de k4\n",
    "    for i in range(m):\n",
    "        coef[i,3] = h * func[i](t + h, w[0] + coef[0,2], w[1] + coef[1,2])\n",
    "        \n",
    "    # determinamos las aproximaciones de w\n",
    "    for i in range(m):\n",
    "        coef[i,4] = w[i] + (coef[i,0] + 2 * coef[i,1] + 2 * coef[i,2] + coef[i,3]) / 6\n",
    "    \n",
    "    return coef"
   ]
  },
  {
   "cell_type": "code",
   "execution_count": null,
   "metadata": {},
   "outputs": [],
   "source": [
    "rungeK4(0, h, aprox[:,0], func)[0,4]"
   ]
  },
  {
   "cell_type": "code",
   "execution_count": null,
   "metadata": {},
   "outputs": [],
   "source": [
    "# Comenzamos el proceso iterativo\n",
    "for i in range(1,n+1):\n",
    "    \n",
    "    # Llamamos a la función objetivo\n",
    "    coef = rungeK4(aprox[0,i-1], h, aprox[:,i-1][1:(m+1)], func)\n",
    "    \n",
    "    # Asignamos los valores al arreglo correspondiente\n",
    "    aprox[1,i] = coef[0,4]\n",
    "    aprox[2,i] = coef[1,4]\n",
    "\n",
    "# Creamos el arreglo donde trabajaremos\n",
    "resumen = np.empty((7,n+1))\n",
    "\n",
    "# Asignamos los puntos donde trabajamos y los valores aproximados\n",
    "resumen[0:(m+1),:] = aprox.copy()\n",
    "\n",
    "# Agregamos los valores reales de y1\n",
    "resumen[3] = y1(resumen[0])\n",
    "\n",
    "# Agregamos los valores reales de y2\n",
    "resumen[4] = y2(resumen[0])\n",
    "\n",
    "# Determinamos el error de aproximacion de y1\n",
    "resumen[5,:] = abs(resumen[3].copy() - resumen[1].copy())\n",
    "\n",
    "# Determinamos el error de aproximacion de y2\n",
    "resumen[6,:] = abs(resumen[4].copy() - resumen[2].copy())"
   ]
  },
  {
   "cell_type": "code",
   "execution_count": null,
   "metadata": {},
   "outputs": [],
   "source": [
    "# Imprimimos los resultados obtenidos\n",
    "print('La aproximacion obtenida se encuentra dada por:')\n",
    "\n",
    "# Titulos de la tabla\n",
    "print(f'{punto:12}   {aproxima1:12}   {aproxima2:12}  {real1:12}   {real2:12}  {error1:14}   {error2:14}')\n",
    "\n",
    "for i in range(n+1):\n",
    "    print('{0:12}   {1:12}   {2:12}   {3:12}   {4:12}   {5:14f}   {6:14f}'.format(round(resumen[0,i],8), round(resumen[1,i],8), round(resumen[2,i],8), round(resumen[3,i],8), round(resumen[4,i],8), round(resumen[5,i],10), round(resumen[6,i],10)))"
   ]
  },
  {
   "cell_type": "code",
   "execution_count": null,
   "metadata": {},
   "outputs": [],
   "source": []
  }
 ],
 "metadata": {
  "kernelspec": {
   "display_name": "Python 3",
   "language": "python",
   "name": "python3"
  },
  "language_info": {
   "codemirror_mode": {
    "name": "ipython",
    "version": 3
   },
   "file_extension": ".py",
   "mimetype": "text/x-python",
   "name": "python",
   "nbconvert_exporter": "python",
   "pygments_lexer": "ipython3",
   "version": "3.8.5"
  }
 },
 "nbformat": 4,
 "nbformat_minor": 4
}
