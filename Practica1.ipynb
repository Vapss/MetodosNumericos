{
 "cells": [
  {
   "cell_type": "markdown",
   "id": "596a13bf",
   "metadata": {},
   "source": [
    "## Práctica: Tipos de errores\n",
    "\n",
    "En este libro de trabajo definiremos funciones que permitirán determinar las formas en que medimos el **error**, las cuales son:\n",
    "\n",
    "- Error *absoluto*\n",
    "- Error *relativo*\n",
    "- Error *porcentual*\n",
    "\n",
    "Los cuales se calculan de acuerdo con las siguientes expresiones, para lo cual, considere $p$ es el valor exacto y $p^*$ es la aproximación\n",
    "\n",
    "$$ErrorA = |p - p^*|$$\n",
    "\n",
    "$$ErrorR = \\frac{|p - p^*|}{p}$$\n",
    "\n",
    "$$ErrorP = \\frac{|p - p^*|}{p}\\times 100\\%$$"
   ]
  },
  {
   "cell_type": "code",
   "execution_count": 1,
   "id": "1e4ed718",
   "metadata": {},
   "outputs": [],
   "source": [
    "# Para definir funciones empleamos el comando def\n",
    "def errorA(valorR, valorA):\n",
    "    error = valorR - valorA\n",
    "    return error"
   ]
  },
  {
   "cell_type": "code",
   "execution_count": 10,
   "id": "297db5a4",
   "metadata": {},
   "outputs": [
    {
     "data": {
      "text/plain": [
       "0.0"
      ]
     },
     "execution_count": 10,
     "metadata": {},
     "output_type": "execute_result"
    }
   ],
   "source": [
    "errorA(2/3,0.66666666666666667)"
   ]
  },
  {
   "cell_type": "code",
   "execution_count": 4,
   "id": "46ac421d",
   "metadata": {},
   "outputs": [
    {
     "data": {
      "text/plain": [
       "0.6666666666666666"
      ]
     },
     "execution_count": 4,
     "metadata": {},
     "output_type": "execute_result"
    }
   ],
   "source": [
    "2/3"
   ]
  },
  {
   "cell_type": "code",
   "execution_count": null,
   "id": "51387ae5",
   "metadata": {},
   "outputs": [],
   "source": []
  }
 ],
 "metadata": {
  "kernelspec": {
   "display_name": "Python 3",
   "language": "python",
   "name": "python3"
  },
  "language_info": {
   "codemirror_mode": {
    "name": "ipython",
    "version": 3
   },
   "file_extension": ".py",
   "mimetype": "text/x-python",
   "name": "python",
   "nbconvert_exporter": "python",
   "pygments_lexer": "ipython3",
   "version": "3.8.8"
  }
 },
 "nbformat": 4,
 "nbformat_minor": 5
}
