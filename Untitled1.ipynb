{
 "cells": [
  {
   "cell_type": "code",
   "execution_count": 1,
   "id": "3c716c6c",
   "metadata": {},
   "outputs": [],
   "source": [
    "# Importamos las funciones necesarias que empleara la función objetivo\n",
    "import math\n",
    "from math import e, cos, sin, exp, log\n",
    "\n",
    "# Procedemos a definir e inicializar las condiciones de paro del método\n",
    "tol = 1.*(10**(-15)) # Obtener un error relativo de 10^(-10)\n",
    "maxItera = 100 # Realizar máximo 100 iteraciones"
   ]
  },
  {
   "cell_type": "code",
   "execution_count": 2,
   "id": "b674ff34",
   "metadata": {},
   "outputs": [],
   "source": [
    "# Definimos la funcion objetivo\n",
    "def fx(x):\n",
    "    fx = (x-2)**2-log(x)\n",
    "    return fx\n",
    "\n",
    "# Definimos la derivada de la funcion objetivo\n",
    "def fxp(x):\n",
    "    fxp = 2*(x-2)-(1/x)\n",
    "    return fxp"
   ]
  },
  {
   "cell_type": "code",
   "execution_count": 3,
   "id": "f5d3f199",
   "metadata": {},
   "outputs": [],
   "source": [
    "# Definimos el punto inicial donde comenzaremos por aplicar el método así como el indice de conteo de las\n",
    "# iteraciones y un error grande a fin de inicializar el método\n",
    "p0 = 1.0 # aproximación inicial\n",
    "k = 0 # Inicilizamos las iteraciones\n",
    "error = 10000 # Inicializamos el valor del error en un número muy grande\n",
    "pAnterior = p0 # Inicializamos la primer aproximación como b"
   ]
  },
  {
   "cell_type": "code",
   "execution_count": 4,
   "id": "784301dd",
   "metadata": {},
   "outputs": [],
   "source": [
    "# Definimos una funcion que defina el método iterativo del punto fijo\n",
    "def itenewton(a, fx, fxp):\n",
    "    # Evaluamos para validar si ya tenemos la raíz\n",
    "    evalua = fx(a)\n",
    "    # Validamos si llegamos a las raíz\n",
    "    if evalua==0:\n",
    "        return 0, a\n",
    "    \n",
    "    else:\n",
    "        return 1, a - (fx(a) / fxp(a))"
   ]
  },
  {
   "cell_type": "code",
   "execution_count": 5,
   "id": "67dc97f0",
   "metadata": {},
   "outputs": [
    {
     "name": "stdout",
     "output_type": "stream",
     "text": [
      "Iniciamos el proceso iterativo\n",
      "Resultados de la iteracion 1.\n",
      "La aproximación del punto fijo se encuentra dada por 1.3333333333333333.\n",
      "El valor de la función bajo la aproximación es 0.15676237199266368.\n",
      "El error relativo se encuentra dado por 1.3333333333333333.\n",
      "\n",
      "Resultados de la iteracion 2.\n",
      "La aproximación del punto fijo se encuentra dada por 1.4085792718898118.\n",
      "El valor de la función bajo la aproximación es 0.007196889815886176.\n",
      "El error relativo se encuentra dado por 0.23200831054914223.\n",
      "\n",
      "Resultados de la iteracion 3.\n",
      "La aproximación del punto fijo se encuentra dada por 1.4123815640468993.\n",
      "El valor de la función bajo la aproximación es 1.8094211360342172e-05.\n",
      "El error relativo se encuentra dado por 0.01099918197297367.\n",
      "\n",
      "Resultados de la iteracion 4.\n",
      "La aproximación del punto fijo se encuentra dada por 1.4123911719625806.\n",
      "El valor de la función bajo la aproximación es 1.1544987188472078e-10.\n",
      "El error relativo se encuentra dado por 2.7702127041617786e-05.\n",
      "\n",
      "Resultados de la iteracion 5.\n",
      "La aproximación del punto fijo se encuentra dada por 1.4123911720238844.\n",
      "El valor de la función bajo la aproximación es 2.220446049250313e-16.\n",
      "El error relativo se encuentra dado por 1.7675372276926282e-10.\n",
      "\n",
      "Resultados de la iteracion 6.\n",
      "La aproximación del punto fijo se encuentra dada por 1.4123911720238846.\n",
      "El valor de la función bajo la aproximación es -2.220446049250313e-16.\n",
      "El error relativo se encuentra dado por 4.440892098500626e-16.\n",
      "\n"
     ]
    }
   ],
   "source": [
    "# Empezamos el método de newton con los datos dados\n",
    "\n",
    "# En este caso ya tenemos la raíz deseada\n",
    "if fx(p0) == 0:\n",
    "    # Se describe que existe una raíz en el punto dado previamente\n",
    "    print('Se ha encontrado el punto fijo, el cual está dado por el punto {0}.'.format(p0))\n",
    "    \n",
    "# Dado que no tenemos la raíz aún procedemos a realizar iteraciones\n",
    "else:\n",
    "    # Señalamos que iniciamos el proceso iterativo\n",
    "    print('Iniciamos el proceso iterativo')\n",
    "    \n",
    "    # Iniciamos el proceso iterativo\n",
    "    while (error > tol and k < maxItera):\n",
    "        \n",
    "        # Iteramos el proceso\n",
    "        itera = itenewton(p0, fx, fxp)\n",
    "        \n",
    "        # Validamos los casos obtenidos de la bandera, si esta es 0, se ha determinado la raíz\n",
    "        if itera[0] == 0:\n",
    "            # Describimos que hemos determinado el punto fijo y lo imprimimos\n",
    "            print('El punto fijo de la función se encuentra en el punto: {0}.'.format(itera[1]))\n",
    "            k = maxItera\n",
    "            \n",
    "        # Validamos los casos obtenidos de la bandera, si esta es 1, no se ha determinado el punto fijo\n",
    "        else:\n",
    "            # Incrementamos en 1 las iteraciones realizadas\n",
    "            k = k + 1\n",
    "            \n",
    "            # Imprimimos los resultados obtenidos de la iteracion\n",
    "            print('Resultados de la iteracion {0}.'.format(k))\n",
    "            print('La aproximación del punto fijo se encuentra dada por {0}.'.format(itera[1]))\n",
    "            print('El valor de la función bajo la aproximación es {0}.'.format(fx(itera[1])))\n",
    "            \n",
    "            # Actualizamos las variables\n",
    "            error = abs(p0 - itera[1]) + abs(fx(p0)) # Error de aproximaciones\n",
    "            p0 = itera[1]\n",
    "            \n",
    "            # Imprimimos el error\n",
    "            print('El error relativo se encuentra dado por {0}.\\n'.format(error))"
   ]
  },
  {
   "cell_type": "code",
   "execution_count": null,
   "id": "1a25e270",
   "metadata": {},
   "outputs": [],
   "source": []
  }
 ],
 "metadata": {
  "kernelspec": {
   "display_name": "Python 3",
   "language": "python",
   "name": "python3"
  },
  "language_info": {
   "codemirror_mode": {
    "name": "ipython",
    "version": 3
   },
   "file_extension": ".py",
   "mimetype": "text/x-python",
   "name": "python",
   "nbconvert_exporter": "python",
   "pygments_lexer": "ipython3",
   "version": "3.8.8"
  }
 },
 "nbformat": 4,
 "nbformat_minor": 5
}
